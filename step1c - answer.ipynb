{
 "cells": [
  {
   "cell_type": "markdown",
   "id": "02f7be47-70bd-4953-b070-424c7ad49a4e",
   "metadata": {},
   "source": [
    "## Step 1c Answer "
   ]
  },
  {
   "cell_type": "code",
   "execution_count": 22,
   "id": "d0d16b08-35fa-4299-8276-38c2306142aa",
   "metadata": {
    "tags": []
   },
   "outputs": [],
   "source": [
    "import cv2\n",
    "\n",
    "cap = cv2.VideoCapture(0)\n",
    "width = 1280\n",
    "height = 720\n",
    "fps=30\n",
    "cap.set(cv2.CAP_PROP_FRAME_WIDTH, width)\n",
    "cap.set(cv2.CAP_PROP_FRAME_HEIGHT, height)\n",
    "fps = cap.get(cv2.CAP_PROP_FPS)\n",
    "    \n",
    "# Define the codec for output video\n",
    "fourcc = cv2.VideoWriter_fourcc(*\"mp4v\")\n",
    "output_file = \"webcam_output.mp4\"\n",
    "    \n",
    "# Create VideoWriter object to write the output video\n",
    "writer = cv2.VideoWriter(output_file, fourcc, fps, (width, height))\n",
    "\n",
    "while True:\n",
    "    ret, frame = cap.read()\n",
    "    cv2.imshow('Webcam', frame)\n",
    "    writer.write(frame)\n",
    "    \n",
    "    if cv2.waitKey(1) & 0xFF == ord('q'):\n",
    "        break\n",
    "\n",
    "cap.release()\n",
    "writer.release()\n",
    "cv2.destroyAllWindows()"
   ]
  }
 ],
 "metadata": {
  "kernelspec": {
   "display_name": "Python 3 (ipykernel)",
   "language": "python",
   "name": "python3"
  },
  "language_info": {
   "codemirror_mode": {
    "name": "ipython",
    "version": 3
   },
   "file_extension": ".py",
   "mimetype": "text/x-python",
   "name": "python",
   "nbconvert_exporter": "python",
   "pygments_lexer": "ipython3",
   "version": "3.7.16"
  }
 },
 "nbformat": 4,
 "nbformat_minor": 5
}
