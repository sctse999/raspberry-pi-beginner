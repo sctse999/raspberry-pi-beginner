{
 "cells": [
  {
   "cell_type": "markdown",
   "id": "c61c852c-73ef-4c63-83bd-7bf7a4cd37b6",
   "metadata": {},
   "source": [
    "# Adjust system swap\n",
    "\n",
    "This is required particularly for raspberry pi 4"
   ]
  },
  {
   "cell_type": "code",
   "execution_count": 4,
   "id": "15dbe5be-4b5a-4e3a-962b-2a8cfdd55e78",
   "metadata": {},
   "outputs": [
    {
     "name": "stdout",
     "output_type": "stream",
     "text": [
      "Filename\t\t\t\tType\t\tSize\tUsed\tPriority\n",
      "/var/swap                              \tfile    \t102396\t0\t-2\n"
     ]
    }
   ],
   "source": [
    "!swapon -s"
   ]
  },
  {
   "cell_type": "markdown",
   "id": "647874f0-bfaa-4c67-accb-8c96a03f8574",
   "metadata": {},
   "source": [
    "Edit /etc/dphys-swapfile \n",
    "sudo nano /etc/dphys-swapfile\n",
    "comment out CONF_SWAPSIZE. \n",
    "The system will determine the best swap size based on CONF_SWAPFACTOR\n"
   ]
  },
  {
   "cell_type": "code",
   "execution_count": 5,
   "id": "dbee9d3f-26ce-432a-8b31-0a6e6925c349",
   "metadata": {},
   "outputs": [],
   "source": [
    "# Restart the swap service\n",
    "!sudo service dphys-swapfile restart"
   ]
  },
  {
   "cell_type": "code",
   "execution_count": 6,
   "id": "a0a31ac2-46c3-422f-baf3-3de442987bbf",
   "metadata": {},
   "outputs": [
    {
     "name": "stdout",
     "output_type": "stream",
     "text": [
      "Filename\t\t\t\tType\t\tSize\tUsed\tPriority\n",
      "/var/swap                              \tfile    \t2097148\t0\t-2\n"
     ]
    }
   ],
   "source": [
    "# Check the swap again\n",
    "!swapon -s"
   ]
  }
 ],
 "metadata": {
  "kernelspec": {
   "display_name": "Python 3 (ipykernel)",
   "language": "python",
   "name": "python3"
  },
  "language_info": {
   "codemirror_mode": {
    "name": "ipython",
    "version": 3
   },
   "file_extension": ".py",
   "mimetype": "text/x-python",
   "name": "python",
   "nbconvert_exporter": "python",
   "pygments_lexer": "ipython3",
   "version": "3.9.2"
  }
 },
 "nbformat": 4,
 "nbformat_minor": 5
}
