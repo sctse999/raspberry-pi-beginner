{
 "cells": [
  {
   "cell_type": "markdown",
   "id": "ae57605c-ef1b-4dcf-b3da-a355c6767485",
   "metadata": {},
   "source": [
    "# OpenCV"
   ]
  },
  {
   "cell_type": "markdown",
   "id": "c328984d-df38-4da8-981a-099b6f1347e1",
   "metadata": {},
   "source": [
    "## Step 1a - How to use your webcam via opencv"
   ]
  },
  {
   "cell_type": "code",
   "execution_count": null,
   "id": "9e24cf8d-ad32-4280-8fa3-185b8764db33",
   "metadata": {
    "tags": []
   },
   "outputs": [],
   "source": [
    "import cv2\n",
    "\n",
    "# Open the webcam\n",
    "cap = cv2.VideoCapture(0)\n",
    "\n",
    "while True:\n",
    "    # Capture frame-by-frame\n",
    "    ret, frame = cap.read()\n",
    "\n",
    "    # Display the resulting frame\n",
    "    cv2.imshow('Webcam', frame)\n",
    "\n",
    "    # Wait for the 'q' key to exit the loop\n",
    "    if cv2.waitKey(1) & 0xFF == ord('q'):\n",
    "        break\n",
    "\n",
    "# Release the video capture and close the window\n",
    "cap.release()\n",
    "cv2.destroyAllWindows()"
   ]
  },
  {
   "cell_type": "markdown",
   "id": "c54dfe27-ee18-43c4-8d6e-7a5a7bf51a68",
   "metadata": {},
   "source": [
    "## Step 1b - How to read a mp4 file"
   ]
  },
  {
   "cell_type": "code",
   "execution_count": null,
   "id": "a0c1a418-10c8-4c75-9bfd-2931f74219c6",
   "metadata": {
    "tags": []
   },
   "outputs": [],
   "source": [
    "import cv2\n",
    "\n",
    "video_path = 'youTube_video.mp4'\n",
    "cap = cv2.VideoCapture(video_path)\n",
    "\n",
    "if not cap.isOpened():\n",
    "    print(\"Error opening video file\")\n",
    "    exit()\n",
    "\n",
    "while True:\n",
    "    ret, frame = cap.read()\n",
    "\n",
    "    cv2.imshow('Video Player', frame)\n",
    "\n",
    "    if cv2.waitKey(1) & 0xFF == ord('q'):\n",
    "        break\n",
    "\n",
    "cap.release()\n",
    "cv2.destroyAllWindows()"
   ]
  },
  {
   "cell_type": "code",
   "execution_count": null,
   "id": "59cd0470-74e3-427d-9311-1d3423cefc53",
   "metadata": {},
   "outputs": [],
   "source": [
    "# If the program doesn't end, try this? What does this mean?\n",
    "if not ret:\n",
    "    break"
   ]
  },
  {
   "cell_type": "markdown",
   "id": "65e3b0e5-ff36-4af4-a8ab-b989cc3b7c16",
   "metadata": {},
   "source": [
    "## Step 1c - Record a video into a mp4 file using your webcam"
   ]
  },
  {
   "cell_type": "markdown",
   "id": "e48aba18-5873-47da-8ede-2037069436bb",
   "metadata": {},
   "source": [
    "Let's check the resolution supported by our camera first"
   ]
  },
  {
   "cell_type": "code",
   "execution_count": null,
   "id": "ba3974f8-063c-42cb-aec8-18cd583a450b",
   "metadata": {},
   "outputs": [],
   "source": [
    "!v4l2-ctl --list-formats-ext -d /dev/video0"
   ]
  },
  {
   "cell_type": "markdown",
   "id": "83f891b3-f17c-4abb-b5a6-2585b26422cd",
   "metadata": {},
   "source": [
    "Given the above code and cthe code below. Try to figure out how to record a video using your webcam"
   ]
  },
  {
   "cell_type": "code",
   "execution_count": null,
   "id": "188a231e-09eb-4426-8e23-d1247823113c",
   "metadata": {},
   "outputs": [],
   "source": [
    "width = 640\n",
    "height = 480\n",
    "fps=30\n",
    "\n",
    "# set the capture properties\n",
    "cap.set(cv2.CAP_PROP_FRAME_WIDTH, width)\n",
    "cap.set(cv2.CAP_PROP_FRAME_HEIGHT, height)\n",
    "cap.set(cv2.CAP_PROP_FPS, 30)\n",
    "\n",
    "# set the catpure video file\n",
    "fourcc = cv2.VideoWriter_fourcc(*\"mp4v\")\n",
    "output_file = \"webcam_output.mp4\"\n",
    "    \n",
    "# Create VideoWriter object to write the output video\n",
    "writer = cv2.VideoWriter(output_file, fourcc, fps, (width, height))\n"
   ]
  },
  {
   "cell_type": "markdown",
   "id": "02f7be47-70bd-4953-b070-424c7ad49a4e",
   "metadata": {},
   "source": [
    "## Step 1d - Show the webcam inside jupyter"
   ]
  },
  {
   "cell_type": "code",
   "execution_count": null,
   "id": "19544b33-8d49-44e4-807f-8054e5704075",
   "metadata": {},
   "outputs": [],
   "source": [
    "# install the necessary library\n",
    "!pip install ipywidgets"
   ]
  },
  {
   "cell_type": "code",
   "execution_count": null,
   "id": "d0d16b08-35fa-4299-8276-38c2306142aa",
   "metadata": {
    "tags": []
   },
   "outputs": [],
   "source": [
    "import matplotlib.pyplot as plt\n",
    "import cv2\n",
    "import numpy as np\n",
    "from IPython.display import display, Image\n",
    "import ipywidgets as widgets\n",
    "import threading\n"
   ]
  },
  {
   "cell_type": "code",
   "execution_count": null,
   "id": "e5900ef1-3ffa-4392-9a13-640f81588a77",
   "metadata": {
    "tags": []
   },
   "outputs": [],
   "source": [
    "# Stop button\n",
    "# ================\n",
    "stopButton = widgets.ToggleButton(\n",
    "    value=False,\n",
    "    description='Stop',\n",
    "    disabled=False,\n",
    "    button_style='danger', # 'success', 'info', 'warning', 'danger' or ''\n",
    "    tooltip='Description',\n",
    "    icon='square' # (FontAwesome names without the `fa-` prefix)\n",
    ")\n",
    "\n",
    "\n",
    "\n",
    "# Display function\n",
    "# ================\n",
    "def view(button):\n",
    "    cap = cv2.VideoCapture(0)\n",
    "\n",
    "    width = 160\n",
    "    height = 120\n",
    "    fps=30\n",
    "    \n",
    "    # set the capture properties\n",
    "    cap.set(cv2.CAP_PROP_FRAME_WIDTH, width)\n",
    "    cap.set(cv2.CAP_PROP_FRAME_HEIGHT, height)\n",
    "    cap.set(cv2.CAP_PROP_FPS, 30)\n",
    "\n",
    "    display_handle=display(None, display_id=True)\n",
    "    i = 0\n",
    "    while True:\n",
    "        _, frame = cap.read()\n",
    "        frame = cv2.flip(frame, 1) # if your camera reverses your image\n",
    "        _, frame = cv2.imencode('.jpeg', frame)\n",
    "        display_handle.update(Image(data=frame.tobytes()))\n",
    "        if stopButton.value==True:\n",
    "            cap.release()\n",
    "            display_handle.update(None)\n",
    "\n",
    "            \n",
    "# Run\n",
    "# ================\n",
    "display(stopButton)\n",
    "thread = threading.Thread(target=view, args=(stopButton,))\n",
    "thread.start()"
   ]
  },
  {
   "cell_type": "markdown",
   "id": "7bbd4b07-f0ee-4a56-b851-b655145834df",
   "metadata": {},
   "source": [
    "## Step 1e - Annotating the frame"
   ]
  },
  {
   "cell_type": "code",
   "execution_count": null,
   "id": "fb01ca51-0832-4c07-b0b2-79ffdf99e934",
   "metadata": {
    "tags": []
   },
   "outputs": [],
   "source": [
    "def putText(frame):\n",
    "    # Define the text properties\n",
    "    text = 'Your Annotation'\n",
    "    font = cv2.FONT_HERSHEY_SIMPLEX\n",
    "    text_position = (50, 50)\n",
    "    text_scale = 1\n",
    "    text_color = (0, 255, 0)\n",
    "    text_thickness = 2\n",
    "\n",
    "    # Add text annotation on the frame\n",
    "    cv2.putText(frame, text, text_position, font, text_scale, text_color, text_thickness)\n"
   ]
  },
  {
   "cell_type": "code",
   "execution_count": null,
   "id": "1f3c43c1-d7b7-4866-ac8f-0f5c3dd69bfa",
   "metadata": {
    "tags": []
   },
   "outputs": [],
   "source": [
    "# Stop button\n",
    "# ================\n",
    "stopButton = widgets.ToggleButton(\n",
    "    value=False,\n",
    "    description='Stop',\n",
    "    disabled=False,\n",
    "    button_style='danger', # 'success', 'info', 'warning', 'danger' or ''\n",
    "    tooltip='Description',\n",
    "    icon='square' # (FontAwesome names without the `fa-` prefix)\n",
    ")\n",
    "\n",
    "# Display function\n",
    "# ================\n",
    "def view(button):\n",
    "    cap = cv2.VideoCapture(0)\n",
    "\n",
    "    width = 160\n",
    "    height = 120\n",
    "    fps=30\n",
    "    \n",
    "    # set the capture properties\n",
    "    cap.set(cv2.CAP_PROP_FRAME_WIDTH, width)\n",
    "    cap.set(cv2.CAP_PROP_FRAME_HEIGHT, height)\n",
    "    cap.set(cv2.CAP_PROP_FPS, 30)\n",
    "\n",
    "\n",
    "    display_handle=display(None, display_id=True)\n",
    "    i = 0\n",
    "    while True:\n",
    "        _, frame = cap.read()\n",
    "        frame = cv2.flip(frame, 1) # if your camera reverses your image\n",
    "        putText(frame)\n",
    "        _, frame = cv2.imencode('.jpeg', frame)\n",
    "        display_handle.update(Image(data=frame.tobytes()))\n",
    "        if stopButton.value==True:\n",
    "            cap.release()\n",
    "            display_handle.update(None)\n",
    "\n",
    "            \n",
    "# Run\n",
    "# ================\n",
    "display(stopButton)\n",
    "thread = threading.Thread(target=view, args=(stopButton,))\n",
    "thread.start()"
   ]
  }
 ],
 "metadata": {
  "kernelspec": {
   "display_name": "Python 3 (ipykernel)",
   "language": "python",
   "name": "python3"
  },
  "language_info": {
   "codemirror_mode": {
    "name": "ipython",
    "version": 3
   },
   "file_extension": ".py",
   "mimetype": "text/x-python",
   "name": "python",
   "nbconvert_exporter": "python",
   "pygments_lexer": "ipython3",
   "version": "3.9.2"
  }
 },
 "nbformat": 4,
 "nbformat_minor": 5
}
