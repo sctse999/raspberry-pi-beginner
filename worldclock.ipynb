{
 "cells": [
  {
   "cell_type": "code",
   "execution_count": null,
   "id": "07916979-64af-4849-821c-bb487cafd7e9",
   "metadata": {},
   "outputs": [],
   "source": [
    "import datetime\n",
    "\n",
    "now = datetime.datetime.now()\n",
    "fmt = '%Y-%m-%d %I:%M %p'\n",
    "print(now.strftime(fmt))\n",
    "\n"
   ]
  },
  {
   "cell_type": "code",
   "execution_count": null,
   "id": "0b5d9a52-4e35-4f90-8251-488445edf878",
   "metadata": {},
   "outputs": [],
   "source": [
    "import pytz\n",
    "\n",
    "tz = pytz.timezone('America/New_York')\n",
    "tz_now = now.astimezone(tz)\n",
    "\n",
    "print(tz_now.strftime(fmt))\n"
   ]
  },
  {
   "cell_type": "code",
   "execution_count": null,
   "id": "bc72080c-13fd-4206-bb0b-64b4dcff94f9",
   "metadata": {},
   "outputs": [],
   "source": [
    "for tz in pytz.all_timezones:\n",
    "    print(f\"{tz}\")"
   ]
  },
  {
   "cell_type": "code",
   "execution_count": null,
   "id": "660f4eb2-813b-49cf-ae77-dd97c541b3b0",
   "metadata": {},
   "outputs": [],
   "source": [
    "\"America/New_York\".split(\"/\")[1]"
   ]
  },
  {
   "cell_type": "code",
   "execution_count": null,
   "id": "2a63528a-84f8-4a1e-b102-6093e6df8123",
   "metadata": {},
   "outputs": [],
   "source": [
    "for tz in pytz.all_timezones:\n",
    "    print(\"{country}\".format(country=tz.split(\"/\")[1]))"
   ]
  }
 ],
 "metadata": {
  "kernelspec": {
   "display_name": "Python 3 (ipykernel)",
   "language": "python",
   "name": "python3"
  },
  "language_info": {
   "codemirror_mode": {
    "name": "ipython",
    "version": 3
   },
   "file_extension": ".py",
   "mimetype": "text/x-python",
   "name": "python",
   "nbconvert_exporter": "python",
   "pygments_lexer": "ipython3",
   "version": "3.7.3"
  }
 },
 "nbformat": 4,
 "nbformat_minor": 5
}
